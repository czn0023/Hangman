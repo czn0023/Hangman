{
 "cells": [
  {
   "cell_type": "code",
   "execution_count": 32,
   "id": "472efa67-dc11-4634-ae1c-5d71804a5b1a",
   "metadata": {},
   "outputs": [
    {
     "name": "stdout",
     "output_type": "stream",
     "text": [
      "['LYRICISES']\n",
      "LYRICISES\n",
      "['L', 'Y', 'R', 'I', 'C', 'I', 'S', 'E', 'S']\n",
      "---------\n",
      "Try to guess the word!\n",
      "You have 7 guesses left.\n"
     ]
    },
    {
     "name": "stdin",
     "output_type": "stream",
     "text": [
      "Guess a letter or the answer: lyricises\n"
     ]
    },
    {
     "name": "stdout",
     "output_type": "stream",
     "text": [
      "Congragulations! You guessed correctly!\n",
      "Wins: 1\n",
      "Losses: 0\n"
     ]
    },
    {
     "name": "stdin",
     "output_type": "stream",
     "text": [
      "Do you want to play again? Y/N y\n"
     ]
    },
    {
     "name": "stdout",
     "output_type": "stream",
     "text": [
      "['PLANETIC']\n",
      "PLANETIC\n",
      "['P', 'L', 'A', 'N', 'E', 'T', 'I', 'C']\n",
      "--------\n",
      "Try to guess the word!\n",
      "You have 7 guesses left.\n"
     ]
    },
    {
     "name": "stdin",
     "output_type": "stream",
     "text": [
      "Guess a letter or the answer: as\n"
     ]
    },
    {
     "name": "stdout",
     "output_type": "stream",
     "text": [
      "That is not correct!\n",
      "You have 6 guesses left.\n"
     ]
    },
    {
     "name": "stdin",
     "output_type": "stream",
     "text": [
      "Guess a letter or the answer: as\n"
     ]
    },
    {
     "name": "stdout",
     "output_type": "stream",
     "text": [
      "That is not correct!\n",
      "You have 5 guesses left.\n"
     ]
    },
    {
     "name": "stdin",
     "output_type": "stream",
     "text": [
      "Guess a letter or the answer: as\n"
     ]
    },
    {
     "name": "stdout",
     "output_type": "stream",
     "text": [
      "That is not correct!\n",
      "You have 4 guesses left.\n"
     ]
    },
    {
     "name": "stdin",
     "output_type": "stream",
     "text": [
      "Guess a letter or the answer: as\n"
     ]
    },
    {
     "name": "stdout",
     "output_type": "stream",
     "text": [
      "That is not correct!\n",
      "You have 3 guesses left.\n"
     ]
    },
    {
     "name": "stdin",
     "output_type": "stream",
     "text": [
      "Guess a letter or the answer: as\n"
     ]
    },
    {
     "name": "stdout",
     "output_type": "stream",
     "text": [
      "That is not correct!\n",
      "You have 2 guesses left.\n"
     ]
    },
    {
     "name": "stdin",
     "output_type": "stream",
     "text": [
      "Guess a letter or the answer: as\n"
     ]
    },
    {
     "name": "stdout",
     "output_type": "stream",
     "text": [
      "That is not correct!\n",
      "You've ran out of guesses! You lose.\n",
      "Wins: 1\n",
      "Losses: 1\n"
     ]
    },
    {
     "name": "stdin",
     "output_type": "stream",
     "text": [
      "Do you want to play again? Y/N n\n"
     ]
    },
    {
     "name": "stdout",
     "output_type": "stream",
     "text": [
      "Thanks for playing!\n"
     ]
    }
   ],
   "source": [
    "#Declare Variables\n",
    "open(r\"words.txt\")\n",
    "import random\n",
    "playagain = True\n",
    "wins = 0\n",
    "losses = 0\n",
    "while playagain == True:\n",
    "    hangman = random.choice(list(open(r\"words.txt\")))\n",
    "    hangman = hangman.upper()\n",
    "    hangman = hangman.rstrip(\"\\n\")\n",
    "    pickedhangmen = []\n",
    "    while hangman in pickedhangmen:\n",
    "        hangman = random.choice(list(open(r\"words.txt\")))\n",
    "    pickedhangmen.append(hangman)\n",
    "    print(pickedhangmen)\n",
    "    brokenhangman = list(hangman)\n",
    "    blankhangman = \"-\" * len(hangman)\n",
    "    print(hangman)\n",
    "    guesses = 7\n",
    "    print(brokenhangman)\n",
    "    print(blankhangman)\n",
    "    print(\"Try to guess the word!\")\n",
    "    #If guesses reach 0, end game\n",
    "    while guesses > 0:\n",
    "        print(\"You have \" + str(guesses) + \" guesses left.\")\n",
    "        userword = str(input(\"Guess a letter or the answer:\"))\n",
    "        #Case is kept by using upper for all inputs and the hangman\n",
    "        userword = userword.upper()\n",
    "        #If length of input is more than 1, the user is guessing the word. If not, they are guessing a letter\n",
    "        if len(userword) > 1:\n",
    "            if userword == hangman:\n",
    "                print(\"Congragulations! You guessed correctly!\")\n",
    "                wins += 1\n",
    "                #Exit loop, correct answer was given\n",
    "                break\n",
    "            else:\n",
    "                print(\"That is not correct!\")\n",
    "                #Incorrect guess, closer to losing\n",
    "                guesses = guesses - 1\n",
    "                if guesses == 1:\n",
    "                    break\n",
    "        else:\n",
    "            #Add user guess to list for later use\n",
    "            if userword in brokenhangman:\n",
    "                print(\"That letter is in the hangman!\")\n",
    "                #Display guessed letters and their location in the hangman\n",
    "                index = 0\n",
    "                while index != len(brokenhangman):\n",
    "                    if userword == brokenhangman[index]:\n",
    "                        blankhangman = blankhangman[:index] + userword + blankhangman[index + 1:]\n",
    "                        index += 1\n",
    "                    else:\n",
    "                        index += 1\n",
    "                print(index)\n",
    "                print(blankhangman)\n",
    "            else:\n",
    "                print(\"That letter is not in the hangman.\")\n",
    "                guesses = guesses - 1\n",
    "                print(blankhangman)\n",
    "    if guesses <= 1:\n",
    "        print(\"You've ran out of guesses! You lose.\")\n",
    "        losses += 1\n",
    "        print(\"Wins: \" + str(wins))\n",
    "        print(\"Losses: \" + str(losses))\n",
    "        redo = str(input(\"Do you want to play again? Y/N\"))\n",
    "        redo = redo.upper()\n",
    "        if redo != \"Y\":\n",
    "            playagain = False\n",
    "    else:\n",
    "        print(\"Wins: \" + str(wins))\n",
    "        print(\"Losses: \" + str(losses))\n",
    "        redo = str(input(\"Do you want to play again? Y/N\"))\n",
    "        redo = redo.upper()\n",
    "        if redo != \"Y\":\n",
    "            playagain = False\n",
    "print(\"Thanks for playing!\")"
   ]
  },
  {
   "cell_type": "code",
   "execution_count": null,
   "id": "f2db3ba0-9998-47f3-80fa-6d9c617bea6a",
   "metadata": {},
   "outputs": [],
   "source": []
  }
 ],
 "metadata": {
  "kernelspec": {
   "display_name": "Python 3 (ipykernel)",
   "language": "python",
   "name": "python3"
  },
  "language_info": {
   "codemirror_mode": {
    "name": "ipython",
    "version": 3
   },
   "file_extension": ".py",
   "mimetype": "text/x-python",
   "name": "python",
   "nbconvert_exporter": "python",
   "pygments_lexer": "ipython3",
   "version": "3.9.7"
  }
 },
 "nbformat": 4,
 "nbformat_minor": 5
}
